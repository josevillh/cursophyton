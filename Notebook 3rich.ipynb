{
 "cells": [
  {
   "cell_type": "markdown",
   "metadata": {
    "collapsed": false
   },
   "source": [
    "# Pelota que cae\n",
    "\n",
    "Las ecuaciones de Newton son: \n",
    "\n",
    "$m \\frac{d^2\\vec r}{dt^2} = -g \\hat k + \\vec f_{fricc} + \\vec f_{ext}$"
   ]
  },
  {
   "cell_type": "code",
   "execution_count": 1,
   "metadata": {
    "collapsed": false
   },
   "outputs": [],
   "source": [
    "from pylab import *\n",
    "from scipy.integrate import *\n",
    "%matplotlib inline"
   ]
  },
  {
   "cell_type": "code",
   "execution_count": 2,
   "metadata": {
    "collapsed": true
   },
   "outputs": [],
   "source": [
    "def fuerza(v_r,t,gama=0,viento=[0,0],m=1,g=9.8):\n",
    "    # v_r = [ry,rz,vy,vz]\n",
    "    dvz = -g/m - (gama/m)*v_r[3] + viento[1]\n",
    "    dvy = -(gama/m)*v_r[2] + viento[0]\n",
    "    drz = v_r[3]\n",
    "    dry = v_r[2]\n",
    "    return [dry,drz,dvy,dvz]"
   ]
  },
  {
   "cell_type": "code",
   "execution_count": 3,
   "metadata": {
    "collapsed": true
   },
   "outputs": [],
   "source": [
    "def rebote(punto,dt,param):\n",
    "    error = 1e-5\n",
    "    dt = dt/2\n",
    "    sol = odeint(fuerza,punto,[0,dt],args=(param[0],param[1],param[2],param[3],))\n",
    "    while abs(sol[:,1][0]-sol[:,1][1]) > error:\n",
    "        if sol[:,1][0]*sol[:,1][1] < 0:\n",
    "            punto = sol[0]\n",
    "        else:\n",
    "            punto = sol[1]\n",
    "        dt = dt/2\n",
    "        sol = odeint(fuerza,punto,[0,dt],args=(param[0],param[1],param[2],param[3],))\n",
    "        #print sol[0]\n",
    "    return [sol[0][0],sol[0][1],sol[0][2],-sol[0][3]]"
   ]
  },
  {
   "cell_type": "code",
   "execution_count": 4,
   "metadata": {
    "collapsed": true
   },
   "outputs": [],
   "source": [
    "def trayectoria(pto_ini,t_fin,param=[0,[0,0],1,9.8]):\n",
    "    t_total,dt = [0],0.01\n",
    "    y=[pto_ini[0]]\n",
    "    z=[pto_ini[1]]\n",
    "    t_actual = 0\n",
    "    while t_actual <= t_fin:\n",
    "        t_actual = t_actual + dt\n",
    "        sol = odeint(fuerza,pto_ini,[0,dt],args=(param[0],param[1],param[2],param[3],))\n",
    "        if sol[:,1][0]*sol[:,1][1] < 0.:\n",
    "            sol=rebote(sol[0],dt,param)\n",
    "            y.append(sol[0])\n",
    "            z.append(sol[1])\n",
    "            pto_ini=sol\n",
    "        else:\n",
    "            y.append(sol[:,0][1])\n",
    "            z.append(sol[:,1][1])\n",
    "            pto_ini=sol[1]\n",
    "    return y,z"
   ]
  },
  {
   "cell_type": "code",
   "execution_count": 6,
   "metadata": {
    "collapsed": false
   },
   "outputs": [
    {
     "data": {
      "image/png": "[encoded data removed]",
      "text/plain": [
       "<matplotlib.figure.Figure at 0x7fed01465ad0>"
      ]
     },
     "metadata": {},
     "output_type": "display_data"
    }
   ],
   "source": [
    "y_id,z_id=trayectoria([0,0,1,5],2)\n",
    "y_f,z_f=trayectoria([0,0,1,5],2,[0.5,[0,0],1,9.8])\n",
    "y_v,z_v=trayectoria([0,0,1,5],2,[0.5,[-3.5,0],1,9.8])\n",
    "plot(y_id,z_id,y_f,z_f,y_v,z_v)\n",
    "show()"
   ]
  },
  {
   "cell_type": "code",
   "execution_count": null,
   "metadata": {
    "collapsed": false
   },
   "outputs": [],
   "source": []
  },
  {
   "cell_type": "code",
   "execution_count": null,
   "metadata": {
    "collapsed": true
   },
   "outputs": [],
   "source": []
  },
  {
   "cell_type": "code",
   "execution_count": null,
   "metadata": {
    "collapsed": true
   },
   "outputs": [],
   "source": []
  },
  {
   "cell_type": "code",
   "execution_count": null,
   "metadata": {
    "collapsed": true
   },
   "outputs": [],
   "source": []
  },
  {
   "cell_type": "code",
   "execution_count": null,
   "metadata": {
    "collapsed": true
   },
   "outputs": [],
   "source": []
  }
 ],
 "metadata": {
  "kernelspec": {
   "display_name": "Python [Root]",
   "language": "python",
   "name": "Python [Root]"
  },
  "language_info": {
   "codemirror_mode": {
    "name": "ipython",
    "version": 2
   },
   "file_extension": ".py",
   "mimetype": "text/x-python",
   "name": "python",
   "nbconvert_exporter": "python",
   "pygments_lexer": "ipython2",
   "version": "2.7.12"
  }
 },
 "nbformat": 4,
 "nbformat_minor": 0
}
