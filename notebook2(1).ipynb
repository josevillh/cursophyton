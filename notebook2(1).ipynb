{
 "cells": [
  {
   "cell_type": "markdown",
   "metadata": {
    "collapsed": false
   },
   "source": [
    "# Pelota que cae\n",
    "Las ecuaciones de Newton son:\n",
    "$m \\frac{d^2\\vec r }{dt^2} = -g \\hat k + \\vec f_{fricc}+ \\vec f_{ext}$"
   ]
  },
  {
   "cell_type": "code",
   "execution_count": 30,
   "metadata": {
    "collapsed": false
   },
   "outputs": [],
   "source": [
    "from pylab import*\n",
    "from scipy.integrate import*\n",
    "%matplotlib inline"
   ]
  },
  {
   "cell_type": "code",
   "execution_count": 43,
   "metadata": {
    "collapsed": false
   },
   "outputs": [],
   "source": [
    " def fuerza (v_r,t,gama=0,viento=[0,0],m=1,g=9.8):\n",
    "    #v_r=[ry,rz,vy,vz]\n",
    "    dvz = -g/m-(gama/m)*v_r[3]+viento[1]\n",
    "    dvy = -(gama/m)*v_r[2]+viento[0]\n",
    "    drz = v_r[3]\n",
    "    dry =v_r[2]\n",
    "    return [dry,drz,dvy,dvz]"
   ]
  },
  {
   "cell_type": "code",
   "execution_count": 4,
   "metadata": {
    "collapsed": false
   },
   "outputs": [
    {
     "ename": "TypeError",
     "evalue": "'function' object has no attribute '__getitem__'",
     "output_type": "error",
     "traceback": [
      "\u001b[1;31m---------------------------------------------------------------------------\u001b[0m",
      "\u001b[1;31mTypeError\u001b[0m                                 Traceback (most recent call last)",
      "\u001b[1;32m<ipython-input-4-30f35c69bfc4>\u001b[0m in \u001b[0;36m<module>\u001b[1;34m()\u001b[0m\n\u001b[0;32m      4\u001b[0m \u001b[0ms_fric\u001b[0m \u001b[1;33m=\u001b[0m \u001b[0modeint\u001b[0m\u001b[1;33m(\u001b[0m\u001b[0mfuerza\u001b[0m\u001b[1;33m,\u001b[0m\u001b[1;33m[\u001b[0m\u001b[1;36m0\u001b[0m\u001b[1;33m,\u001b[0m\u001b[1;36m0\u001b[0m\u001b[1;33m,\u001b[0m\u001b[1;36m1\u001b[0m\u001b[1;33m,\u001b[0m\u001b[1;36m5\u001b[0m\u001b[1;33m]\u001b[0m\u001b[1;33m,\u001b[0m\u001b[0mtiempo\u001b[0m\u001b[1;33m,\u001b[0m\u001b[0margs\u001b[0m\u001b[1;33m=\u001b[0m\u001b[1;33m(\u001b[0m\u001b[1;36m0.5\u001b[0m\u001b[1;33m,\u001b[0m\u001b[1;33m)\u001b[0m\u001b[1;33m)\u001b[0m\u001b[1;33m\u001b[0m\u001b[0m\n\u001b[0;32m      5\u001b[0m \u001b[0my_f\u001b[0m\u001b[1;33m,\u001b[0m\u001b[0mz_f\u001b[0m\u001b[1;33m=\u001b[0m \u001b[0ms_fric\u001b[0m\u001b[1;33m[\u001b[0m\u001b[1;33m:\u001b[0m\u001b[1;33m,\u001b[0m\u001b[1;36m0\u001b[0m\u001b[1;33m]\u001b[0m\u001b[1;33m,\u001b[0m\u001b[0ms_fric\u001b[0m\u001b[1;33m[\u001b[0m\u001b[1;33m:\u001b[0m\u001b[1;33m,\u001b[0m\u001b[1;36m1\u001b[0m\u001b[1;33m]\u001b[0m\u001b[1;33m\u001b[0m\u001b[0m\n\u001b[1;32m----> 6\u001b[1;33m \u001b[0ms_f_v\u001b[0m\u001b[1;33m=\u001b[0m \u001b[0modeint\u001b[0m\u001b[1;33m(\u001b[0m\u001b[0mfuerza\u001b[0m\u001b[1;33m[\u001b[0m\u001b[1;36m0\u001b[0m\u001b[1;33m,\u001b[0m\u001b[1;36m0\u001b[0m\u001b[1;33m,\u001b[0m\u001b[1;36m1\u001b[0m\u001b[1;33m,\u001b[0m\u001b[1;36m5\u001b[0m\u001b[1;33m]\u001b[0m\u001b[1;33m,\u001b[0m\u001b[0mtiempo\u001b[0m\u001b[1;33m,\u001b[0m\u001b[0margs\u001b[0m\u001b[1;33m=\u001b[0m\u001b[1;33m(\u001b[0m\u001b[1;36m0.5\u001b[0m\u001b[1;33m,\u001b[0m\u001b[1;33m[\u001b[0m\u001b[1;33m-\u001b[0m\u001b[1;36m3.5\u001b[0m\u001b[1;33m,\u001b[0m\u001b[1;36m0\u001b[0m\u001b[1;33m]\u001b[0m\u001b[1;33m,\u001b[0m\u001b[1;33m)\u001b[0m\u001b[1;33m)\u001b[0m\u001b[1;33m\u001b[0m\u001b[0m\n\u001b[0m\u001b[0;32m      7\u001b[0m \u001b[0my_f_v\u001b[0m\u001b[1;33m,\u001b[0m\u001b[0mz_f_v\u001b[0m\u001b[1;33m=\u001b[0m \u001b[0ms_f_v\u001b[0m\u001b[1;33m[\u001b[0m\u001b[1;33m:\u001b[0m\u001b[1;33m,\u001b[0m\u001b[1;36m0\u001b[0m\u001b[1;33m]\u001b[0m\u001b[1;33m,\u001b[0m\u001b[0ms_v\u001b[0m\u001b[1;33m[\u001b[0m\u001b[1;33m:\u001b[0m\u001b[1;33m,\u001b[0m\u001b[1;36m1\u001b[0m\u001b[1;33m]\u001b[0m\u001b[1;33m\u001b[0m\u001b[0m\n\u001b[0;32m      8\u001b[0m \u001b[0mplot\u001b[0m\u001b[1;33m(\u001b[0m\u001b[0my_id\u001b[0m\u001b[1;33m,\u001b[0m\u001b[0mz_id\u001b[0m\u001b[1;33m,\u001b[0m\u001b[0my_f\u001b[0m\u001b[1;33m,\u001b[0m\u001b[0mz_f\u001b[0m\u001b[1;33m,\u001b[0m\u001b[0my_f_v\u001b[0m\u001b[1;33m,\u001b[0m\u001b[0mz_f_v\u001b[0m\u001b[1;33m)\u001b[0m\u001b[1;33m\u001b[0m\u001b[0m\n",
      "\u001b[1;31mTypeError\u001b[0m: 'function' object has no attribute '__getitem__'"
     ]
    }
   ],
   "source": [
    "tiempo = linspace(0,1)\n",
    "s_ideal= odeint(fuerza,[0,0,1,5],tiempo)\n",
    "y_id,z_id = s_ideal[:,0],s_ideal[:,1]\n",
    "s_fric = odeint(fuerza,[0,0,1,5],tiempo,args=(0.5,))\n",
    "y_f,z_f= s_fric[:,0],s_fric[:,1]\n",
    "s_f_v= odeint(fuerza[0,0,1,5],tiempo,args=(0.5,[-3.5,0],))\n",
    "y_f_v,z_f_v= s_f_v[:,0],s_v[:,1]\n",
    "plot(y_id,z_id,y_f,z_f,y_f_v,z_f_v)\n",
    "xlim\n",
    "show ()"
   ]
  },
  {
   "cell_type": "code",
   "execution_count": 41,
   "metadata": {
    "collapsed": false
   },
   "outputs": [
    {
     "data": {
      "image/png": "[encoded data removed]",
      "text/plain": [
       "<matplotlib.figure.Figure at 0x7fbbbfa51290>"
      ]
     },
     "metadata": {},
     "output_type": "display_data"
    }
   ],
   "source": [
    "tiempo = linspace(0,1)\n",
    "resultado = odeint(fuerza,[0,0,1,5],tiemp,args=[0.1,o)\n",
    "y,z,vy,vz = resultado[:,0],resultado[:,1],resultado[:,2],resultado[:,3]\n",
    "plot(y,z)\n",
    "show ()"
   ]
  },
  {
   "cell_type": "code",
   "execution_count": 15,
   "metadata": {
    "collapsed": false
   },
   "outputs": [
    {
     "name": "stdout",
     "output_type": "stream",
     "text": [
      "[1, 2, 3, 523, 154, 1646, 13, 354]\n",
      "[2, 3, 523]\n"
     ]
    }
   ],
   "source": [
    "lista= [1,2,3,523,154,1646,13,354]\n",
    "print lista\n",
    "print lista[1:4]"
   ]
  },
  {
   "cell_type": "code",
   "execution_count": 13,
   "metadata": {
    "collapsed": false
   },
   "outputs": [],
   "source": [
    "def funcion1(x,y,otra_funcion):\n",
    "    salida = otra_funcion(x)+y\n",
    "    return salida\n",
    "def funcion2(x):\n",
    "    salida = x**2\n",
    "    return salida\n",
    "def funcion3(x):\n",
    "    salida= x**3\n",
    "    return salida"
   ]
  },
  {
   "cell_type": "code",
   "execution_count": 14,
   "metadata": {
    "collapsed": false
   },
   "outputs": [
    {
     "name": "stdout",
     "output_type": "stream",
     "text": [
      "16.0\n",
      "64.0\n",
      "133.0\n"
     ]
    }
   ],
   "source": [
    "print funcion2(4.)\n",
    "print funcion3(4.)\n",
    "print funcion1(5.,8,funcion3)"
   ]
  },
  {
   "cell_type": "code",
   "execution_count": 36,
   "metadata": {
    "collapsed": false
   },
   "outputs": [],
   "source": [
    "def pedazo_trayectoria(pto_ini,dt=0.1,param=[0,[0,0],1,9.8]):\n",
    "    tiempo= array([0,dt])\n",
    "    sol = odeint(fuerza,pto_ini,tiempo,args=(param[0],param[1],param[2],param[3],))\n",
    "    return sol"
   ]
  },
  {
   "cell_type": "code",
   "execution_count": 37,
   "metadata": {
    "collapsed": false
   },
   "outputs": [
    {
     "data": {
      "text/plain": [
       "array([[ 0.   ,  0.   ,  1.   ,  1.   ],\n",
       "       [ 0.1  ,  0.051,  1.   ,  0.02 ]])"
      ]
     },
     "execution_count": 37,
     "metadata": {},
     "output_type": "execute_result"
    }
   ],
   "source": [
    "pedazo_trayectoria([0,0,1,1])"
   ]
  },
  {
   "cell_type": "code",
   "execution_count": 83,
   "metadata": {
    "collapsed": true
   },
   "outputs": [],
   "source": [
    "def rebote(punto,dt,param):\n",
    "    error= 1e-5\n",
    "    dt=dt/2\n",
    "    sol =odeint(fuerza,punto,[0,dt],args=(param[0],param[1],param[2],param[3],))\n",
    "    while abs(sol[:,1][0]-sol[:,1][1])> error:\n",
    "        if sol[:,1][0]*sol[:,1][1]<0:\n",
    "            punto=sol[0]\n",
    "        else:\n",
    "            punto=sol[1]\n",
    "        dt=dt/2\n",
    "        sol =odeint(fuerza,punto,[0,dt],args=(param[0],param[1],param[2],param[3],))\n",
    "        print sol[0]        \n",
    "    return [sol[0][0],sol[0][1],sol[0][2],-sol[0][3]]"
   ]
  },
  {
   "cell_type": "code",
   "execution_count": 89,
   "metadata": {
    "collapsed": false
   },
   "outputs": [],
   "source": [
    "def trayectoria (pto_ini,t_fin,param=[0,[0,0],1,9.8]):\n",
    "    t_total,dt=[0],0.05\n",
    "    t_actual=0\n",
    "    y=[pto_ini[0]]\n",
    "    z=[pto_ini[1]]\n",
    "    while t_actual <= t_fin:\n",
    "        t_actual = t_actual + dt\n",
    "        sol =odeint(fuerza,pto_ini,[0,dt],args=(param[0],param[1],param[2],param[3],))\n",
    "        if sol[:,1][0]*sol[:,1][1]<0:\n",
    "            sol=rebote(sol[0],dt,param)\n",
    "            y.append(sol[0])\n",
    "            z.append(sol[1])\n",
    "            pto_ini=sol\n",
    "        else:\n",
    "            y.append(sol[:,0][1])\n",
    "            z.append(sol[:,1][1]) \n",
    "            pto_ini=sol[1]\n",
    "    return y,z   "
   ]
  },
  {
   "cell_type": "code",
   "execution_count": 90,
   "metadata": {
    "collapsed": false
   },
   "outputs": [
    {
     "name": "stdout",
     "output_type": "stream",
     "text": [
      "[ 0.6    0.036  1.    -2.88 ]\n",
      "[ 0.6    0.036  1.    -2.88 ]\n",
      "[ 0.60625     0.01780859  1.         -2.94125   ]\n",
      "[ 0.609375    0.00856933  1.         -2.971875  ]\n",
      "[ 0.6109375   0.00391381  1.         -2.9871875 ]\n",
      "[  6.11718750e-01   1.57708326e-03   1.00000000e+00  -2.99484375e+00]\n",
      "[  6.12109375e-01   4.06474741e-04   1.00000000e+00  -2.99867188e+00]\n",
      "[  6.12109375e-01   4.06474741e-04   1.00000000e+00  -2.99867188e+00]\n",
      "[  6.12207031e-01   1.13588961e-04   1.00000000e+00  -2.99962891e+00]\n",
      "[  6.12207031e-01   1.13588961e-04   1.00000000e+00  -2.99962891e+00]\n",
      "[  6.12231445e-01   4.03529124e-05   1.00000000e+00  -2.99986816e+00]\n",
      "[  6.12243652e-01   3.73269787e-06   1.00000000e+00  -2.99998779e+00]\n",
      "[  6.12243652e-01   3.73269787e-06   1.00000000e+00  -2.99998779e+00]\n"
     ]
    },
    {
     "data": {
      "image/png": "[encoded data removed]",
      "text/plain": [
       "<matplotlib.figure.Figure at 0x7f85ea18b290>"
      ]
     },
     "metadata": {},
     "output_type": "display_data"
    }
   ],
   "source": [
    "y,z= trayectoria([0,0,1,3],1)\n",
    "plot(y,z,'o-') \n",
    "grid (True)"
   ]
  },
  {
   "cell_type": "code",
   "execution_count": 82,
   "metadata": {
    "collapsed": false
   },
   "outputs": [
    {
     "name": "stdout",
     "output_type": "stream",
     "text": [
      "[ 0.6    0.036  1.    -2.88 ]\n",
      "[ 0.6    0.036  1.    -2.88 ]\n",
      "[ 0.60625     0.01780859  1.         -2.94125   ]\n",
      "[ 0.609375    0.00856934  1.         -2.971875  ]\n",
      "[ 0.6109375   0.00391382  1.         -2.9871875 ]\n",
      "[  6.11718750e-01   1.57708739e-03   1.00000000e+00  -2.99484375e+00]\n",
      "[  6.12109375e-01   4.06478874e-04   1.00000000e+00  -2.99867188e+00]\n",
      "[  6.12109375e-01   4.06478874e-04   1.00000000e+00  -2.99867188e+00]\n",
      "[  6.12207031e-01   1.13593094e-04   1.00000000e+00  -2.99962891e+00]\n",
      "[  6.12207031e-01   1.13593094e-04   1.00000000e+00  -2.99962891e+00]\n",
      "[  6.12231445e-01   4.03570457e-05   1.00000000e+00  -2.99986816e+00]\n",
      "[  6.12243652e-01   3.73683110e-06   1.00000000e+00  -2.99998779e+00]\n",
      "[  6.12243652e-01   3.73683110e-06   1.00000000e+00  -2.99998779e+00]\n"
     ]
    },
    {
     "data": {
      "text/plain": [
       "([0.61224365234374989, 3.7368311003308554e-06, 1.0, 2.9999877929687497],)"
      ]
     },
     "execution_count": 82,
     "metadata": {},
     "output_type": "execute_result"
    }
   ],
   "source": [
    "rebote([ 0.6,0.036,1.,-2.88],0.05,[0,[0,0],1,9.8])"
   ]
  },
  {
   "cell_type": "code",
   "execution_count": null,
   "metadata": {
    "collapsed": true
   },
   "outputs": [],
   "source": []
  }
 ],
 "metadata": {
  "kernelspec": {
   "display_name": "Python 2",
   "language": "python",
   "name": "python2"
  },
  "language_info": {
   "codemirror_mode": {
    "name": "ipython",
    "version": 2
   },
   "file_extension": ".py",
   "mimetype": "text/x-python",
   "name": "python",
   "nbconvert_exporter": "python",
   "pygments_lexer": "ipython2",
   "version": "2.7.12"
  }
 },
 "nbformat": 4,
 "nbformat_minor": 0
}
