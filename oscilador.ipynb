{
 "cells": [
  {
   "cell_type": "markdown",
   "metadata": {},
   "source": [
    "# oscilador armónico\n",
    "Básicamente trata de una masa anclada, $m$, a un resorte con fuerza restitutiva proporcional a su posición. Entonces la fuerrza se puede modelar  como:\n",
    "\n",
    "$$ m \\frac{d^2 x}{ dt^2} = F= -kx $$ \n",
    "\n",
    "El objetivo es averiguar la solución del sistema"
   ]
  },
  {
   "cell_type": "code",
   "execution_count": 6,
   "metadata": {
    "collapsed": false
   },
   "outputs": [],
   "source": [
    "#librerias a utilizar\n",
    "from sympy import *\n",
    "from sympy.plotting import *\n",
    "init_printing()\n",
    "%matplotlib  inline"
   ]
  },
  {
   "cell_type": "markdown",
   "metadata": {},
   "source": [
    "Primero importamos las librerías necesarias es este caso son sympy sympy.plotting y matplotlib"
   ]
  },
  {
   "cell_type": "code",
   "execution_count": 7,
   "metadata": {
    "collapsed": false
   },
   "outputs": [],
   "source": [
    "m,k,t =symbols ('m,k,t')\n",
    "x = Function('x')"
   ]
  },
  {
   "cell_type": "markdown",
   "metadata": {},
   "source": [
    "Definimos los símbolos correspondientes y entonces la ecuación diferencial a resolver es:\n",
    "\n",
    "$$ \\frac{d^2 x}{ dt^2} + \\frac{k}{m}x=0 $$\n",
    "\n",
    "vamos a asumir que $\\omega^2 =\\frac {k}{m}$ y es positiva"
   ]
  },
  {
   "cell_type": "code",
   "execution_count": 8,
   "metadata": {
    "collapsed": false
   },
   "outputs": [
    {
     "data": {
      "image/png": "[encoded data removed]",
      "text/latex": [
       "$$x{\\left (t \\right )} = C_{1} \\sin{\\left (\\omega t \\right )} + C_{2} \\cos{\\left (\\omega t \\right )}$$"
      ],
      "text/plain": [
       "x(t) = C₁⋅sin(\\omega⋅t) + C₂⋅cos(\\omega⋅t)"
      ]
     },
     "execution_count": 8,
     "metadata": {},
     "output_type": "execute_result"
    }
   ],
   "source": [
    "w = Symbol('\\omega', positive =true)\n",
    "ec_newton=Eq(x(t).diff(t,t)+(w**2)*x(t),0)\n",
    "solucion=dsolve (ec_newton, x(t))\n",
    "solucion"
   ]
  },
  {
   "cell_type": "markdown",
   "metadata": {},
   "source": [
    "Definimos la variable ec_newton como lo indica la ecuación diferencial a partir de esta y con la ayuda de la función de la función dsolve encontramos la solución y la desplegamos."
   ]
  },
  {
   "cell_type": "markdown",
   "metadata": {},
   "source": [
    "Si x(0)=0 y $ \\frac{dx(0)}{ dt}=1$ entonces las constantes $C_1$ y $C_2$ se determinan de la siguiente manera"
   ]
  },
  {
   "cell_type": "code",
   "execution_count": 9,
   "metadata": {
    "collapsed": false
   },
   "outputs": [],
   "source": [
    "C1,C2= symbols('C_1 C_2')\n",
    "solucion = C1*sin(w*t)+C2*cos(w*t)"
   ]
  },
  {
   "cell_type": "code",
   "execution_count": null,
   "metadata": {
    "collapsed": true
   },
   "outputs": [],
   "source": [
    "Obtenemos el valor de C2 cuando t vale cero la posición es cero"
   ]
  },
  {
   "cell_type": "code",
   "execution_count": 10,
   "metadata": {
    "collapsed": false
   },
   "outputs": [
    {
     "data": {
      "image/png": "[encoded data removed]",
      "text/latex": [
       "$$C_{2}$$"
      ],
      "text/plain": [
       "C₂"
      ]
     },
     "execution_count": 10,
     "metadata": {},
     "output_type": "execute_result"
    }
   ],
   "source": [
    "solucion.subs(t,0)"
   ]
  },
  {
   "cell_type": "code",
   "execution_count": 11,
   "metadata": {
    "collapsed": false
   },
   "outputs": [
    {
     "data": {
      "image/png": "[encoded data removed]",
      "text/latex": [
       "$$C_{1} \\omega$$"
      ],
      "text/plain": [
       "C₁⋅\\omega"
      ]
     },
     "execution_count": 11,
     "metadata": {},
     "output_type": "execute_result"
    }
   ],
   "source": [
    "solucion.diff(t).subs(t,0)"
   ]
  },
  {
   "cell_type": "markdown",
   "metadata": {},
   "source": [
    "obtenemos el valor de C1 imponiendo que la la velocidad (derivada de x )vale uno cuando t es igual a cero"
   ]
  },
  {
   "cell_type": "markdown",
   "metadata": {},
   "source": [
    "Entonces $ C_2 =0 $ y  $C_1=\\frac{1}{w}$"
   ]
  },
  {
   "cell_type": "code",
   "execution_count": 12,
   "metadata": {
    "collapsed": true
   },
   "outputs": [],
   "source": [
    "C2=0\n",
    "C1=1/w"
   ]
  },
  {
   "cell_type": "markdown",
   "metadata": {},
   "source": [
    "por lo que la solución final es:"
   ]
  },
  {
   "cell_type": "code",
   "execution_count": 15,
   "metadata": {
    "collapsed": false
   },
   "outputs": [
    {
     "data": {
      "image/png": "[encoded data removed]",
      "text/latex": [
       "$$\\frac{1}{\\omega} \\sin{\\left (\\omega t \\right )}$$"
      ],
      "text/plain": [
       "sin(\\omega⋅t)\n",
       "─────────────\n",
       "    \\omega   "
      ]
     },
     "execution_count": 15,
     "metadata": {},
     "output_type": "execute_result"
    }
   ],
   "source": [
    "sol_final=C1*sin(w*t)+C2*cos(w*t)\n",
    "sol_final"
   ]
  },
  {
   "cell_type": "markdown",
   "metadata": {},
   "source": [
    "Supongamos que $\\omega=2$"
   ]
  },
  {
   "cell_type": "code",
   "execution_count": 14,
   "metadata": {
    "collapsed": false
   },
   "outputs": [
    {
     "data": {
      "image/png": "[encoded data removed]",
      "text/latex": [
       "$$\\frac{1}{2} \\sin{\\left (2 t \\right )}$$"
      ],
      "text/plain": [
       "sin(2⋅t)\n",
       "────────\n",
       "   2    "
      ]
     },
     "execution_count": 14,
     "metadata": {},
     "output_type": "execute_result"
    }
   ],
   "source": [
    "caso1= sol_final.subs(w,2)\n",
    "caso1"
   ]
  },
  {
   "cell_type": "markdown",
   "metadata": {},
   "source": [
    "Por último graficamos, la función en rojo y su derivada(velocidad) en verde."
   ]
  },
  {
   "cell_type": "code",
   "execution_count": 35,
   "metadata": {
    "collapsed": false
   },
   "outputs": [
    {
     "data": {
      "image/png": "[encoded data removed]",
      "text/plain": [
       "<matplotlib.figure.Figure at 0x7f8a6bd6b690>"
      ]
     },
     "metadata": {},
     "output_type": "display_data"
    }
   ],
   "source": [
    "g1= plot (caso1,(t,0,5*pi), show=False, line_color='r')\n",
    "g2= plot (caso1.diff(t),(t,0,5*pi),show=False,line_color='g')\n",
    "g1.extend(g2)\n",
    "g1.show()"
   ]
  },
  {
   "cell_type": "code",
   "execution_count": null,
   "metadata": {
    "collapsed": true
   },
   "outputs": [],
   "source": []
  }
 ],
 "metadata": {
  "kernelspec": {
   "display_name": "Python 2",
   "language": "python",
   "name": "python2"
  },
  "language_info": {
   "codemirror_mode": {
    "name": "ipython",
    "version": 2
   },
   "file_extension": ".py",
   "mimetype": "text/x-python",
   "name": "python",
   "nbconvert_exporter": "python",
   "pygments_lexer": "ipython2",
   "version": "2.7.11"
  },
  "widgets": {
   "state": {},
   "version": "1.1.2"
  }
 },
 "nbformat": 4,
 "nbformat_minor": 0
}
