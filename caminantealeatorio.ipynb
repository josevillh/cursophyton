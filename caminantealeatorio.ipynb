{
 "cells": [
  {
   "cell_type": "markdown",
   "metadata": {},
   "source": [
    "# Caminante aleatorio\n",
    "\n",
    "Consiste en lanzar una moneda a cada paso y tomar una decisión hacia donde caminar.\n",
    "\n",
    "Lo que se hace es hechar un volado y caminar hacia arriba o hacia abajo, dependiendo si cae \"águila\" o \"sol\".\n",
    "\n",
    "Fís. José Manuel Villarreal Huerta"
   ]
  },
  {
   "cell_type": "markdown",
   "metadata": {},
   "source": [
    "Primero iportamos las librería pylab y matplotlib\n"
   ]
  },
  {
   "cell_type": "code",
   "execution_count": 36,
   "metadata": {
    "collapsed": false
   },
   "outputs": [],
   "source": [
    "from pylab import *\n",
    "%matplotlib inline\n"
   ]
  },
  {
   "cell_type": "markdown",
   "metadata": {},
   "source": [
    "Definimos un arreglo llamado \"trayectoria\", éste tiene un número de entradas igual a el número de pasos que dará el caminante, en un principio el arreglo está lleno de ceros, iniciamos el recorrido en el origen.\n",
    "Con estas condiciones se desarrolla el siguiente proceso:\n",
    "* Se toma un índice llamado n, que va desde 0 y de uno en uno hasta el valor de la longitud del arreglo \"trayectoria\".\n",
    "* Para cada valor que toma el índice se coloca el valor de la variable posición en la entrada de trayectoria número n.\n",
    "* Se genera un número al azar entre cero y uno, si este valor es menor que .5 entonces se resta uno al valor de posición.\n",
    "* Para cualquier otro valor de ese número se suma uno al valor de posición."
   ]
  },
  {
   "cell_type": "code",
   "execution_count": 37,
   "metadata": {
    "collapsed": false
   },
   "outputs": [
    {
     "data": {
      "image/png": "[encoded data removed]",
      "text/plain": [
       "<matplotlib.figure.Figure at 0x7fefe80f1e50>"
      ]
     },
     "metadata": {},
     "output_type": "display_data"
    }
   ],
   "source": [
    "trayectoria = zeros(100)\n",
    "posicion= 0\n",
    "for n in range (len(trayectoria)):\n",
    "    trayectoria[n] = posicion\n",
    "    volado = rand()\n",
    "    if volado < 0.5:\n",
    "        posicion = posicion - 1\n",
    "    else:\n",
    "        posicion = posicion + 1\n",
    "plot(range(len(trayectoria)),trayectoria)\n",
    "show()"
   ]
  },
  {
   "cell_type": "markdown",
   "metadata": {},
   "source": [
    "Por último se grafica el valor de cada entrada del arreglo contra el número de la entrada del arreglo"
   ]
  }
 ],
 "metadata": {
  "kernelspec": {
   "display_name": "Python 2",
   "language": "python",
   "name": "python2"
  },
  "language_info": {
   "codemirror_mode": {
    "name": "ipython",
    "version": 2
   },
   "file_extension": ".py",
   "mimetype": "text/x-python",
   "name": "python",
   "nbconvert_exporter": "python",
   "pygments_lexer": "ipython2",
   "version": "2.7.11"
  },
  "widgets": {
   "state": {},
   "version": "1.1.2"
  }
 },
 "nbformat": 4,
 "nbformat_minor": 0
}
