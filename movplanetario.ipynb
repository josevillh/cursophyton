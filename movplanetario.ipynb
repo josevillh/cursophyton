{
 "cells": [
  {
   "cell_type": "markdown",
   "metadata": {
    "nbpresent": {
     "id": "4310c5d3-077c-47e6-8451-cb329516687a"
    },
    "slideshow": {
     "slide_type": "slide"
    }
   },
   "source": [
    "# Movimiento Planetario\n",
    "\n",
    "fís. José Manuel Villarreal Huerta\n",
    "\n",
    "El movimiento planetario está dado por la ley de la gravitación universal:\n",
    "\n",
    "$$m_p\\frac{d^2\\vec r}{dt^2}=-GM_s m_p\\frac{\\vec r}{|r|^3}$$\n",
    "\n",
    "El movimiento no depende de la masa del planeta,$m_p$, podemos hacer el cambio de variable:\n",
    "\n",
    "$T=\\sqrt{\\tfrac{GM_s}{R-T^3} }t$, $\\vec R=\\tfrac{\\vec r}{R_T}$ y la ecuacion anterior queda de la siguiente manera:\n",
    "\n",
    "$$\\frac{d^2\\vec R}{dt^2}=-\\frac{\\vec R}{|r|^3}$$\n",
    "\n",
    "donde los valores numéricos de las constantes son:\n",
    "\n",
    "$ *G=6.674 \\times 10^{-11} \\tfrac{Nm^2}{kg^2}$\n",
    "\n",
    "$ *M_s= 1.9891 \\ times 10^{30} kg$\n",
    "\n",
    "$ *R_T =1.52 \\ times 10^{11} m$"
   ]
  },
  {
   "cell_type": "code",
   "execution_count": 7,
   "metadata": {
    "collapsed": false,
    "nbpresent": {
     "id": "54946670-9949-4ce3-9860-37a70c26ffbf"
    },
    "slideshow": {
     "slide_type": "slide"
    }
   },
   "outputs": [
    {
     "name": "stdout",
     "output_type": "stream",
     "text": [
      "32316464.3954 31536000\n",
      "1.02474836363\n"
     ]
    }
   ],
   "source": [
    "G=6.674e-11\n",
    "M_s = 1.9891e30\n",
    "R_T=1.52e11\n",
    "Cte = sqrt((G*M_s)/(R_T**3))\n",
    "yr=60*60*24*365\n",
    "P=(2*pi)/Cte\n",
    "print P,yr\n",
    "print P/yr"
   ]
  },
  {
   "cell_type": "markdown",
   "metadata": {
    "slideshow": {
     "slide_type": "slide"
    }
   },
   "source": [
    "Primero asignamos el valor correspondiente a cada constante."
   ]
  },
  {
   "cell_type": "code",
   "execution_count": 8,
   "metadata": {
    "collapsed": false,
    "nbpresent": {
     "id": "ebca9fdd-d0bc-4ca7-8b50-983b840e7286"
    },
    "slideshow": {
     "slide_type": "subslide"
    }
   },
   "outputs": [],
   "source": [
    "from pylab import*\n",
    "from scipy.integrate import*\n",
    "%matplotlib inline"
   ]
  },
  {
   "cell_type": "markdown",
   "metadata": {},
   "source": [
    "Ahora importamos la librerias necesarias, en este caso pylab y scipy.integrate además de matplotlib."
   ]
  },
  {
   "cell_type": "code",
   "execution_count": 9,
   "metadata": {
    "collapsed": false,
    "nbpresent": {
     "id": "9e172fcc-f107-40b8-833c-21806e3f1437"
    },
    "slideshow": {
     "slide_type": "subslide"
    }
   },
   "outputs": [],
   "source": [
    "def gravitacion(r_v,t):\n",
    "    r=sqrt(r_v[0]**2 + r_v[1]**2)\n",
    "    dvx=-r_v[0]/r**3\n",
    "    dvy=-r_v[1]/r**3\n",
    "    dx=r_v[2]\n",
    "    dy=r_v[3]\n",
    "    return[dx,dy,dvx,dvy]"
   ]
  },
  {
   "cell_type": "markdown",
   "metadata": {},
   "source": [
    "de la ecuación diferencial despejamos el valor de la variables involucradas para tener la relación que exite entre ellas y a partir de esto definimos la funcion gravitación esta funcion otorga le valor de las cordenadas y las velocidades."
   ]
  },
  {
   "cell_type": "code",
   "execution_count": 10,
   "metadata": {
    "collapsed": false,
    "nbpresent": {
     "id": "f5409747-2cc4-4d1f-88ac-c5e52fdaf892"
    },
    "slideshow": {
     "slide_type": "slide"
    }
   },
   "outputs": [
    {
     "data": {
      "text/plain": [
       "<function matplotlib.pyplot.show>"
      ]
     },
     "execution_count": 10,
     "metadata": {},
     "output_type": "execute_result"
    },
    {
     "data": {
      "image/png": "[encoded data removed]",
      "text/plain": [
       "<matplotlib.figure.Figure at 0x7f6487f99250>"
      ]
     },
     "metadata": {},
     "output_type": "display_data"
    }
   ],
   "source": [
    "tiempo =linspace(0,2*pi)\n",
    "sol = odeint (gravitacion,[1,0,0,1],tiempo)\n",
    "x,y =sol[:,0],sol[:,1]\n",
    "xlim(-1.1,1.1),ylim([-1.1,1.1])\n",
    "axes().set_aspect('equal')\n",
    "plot(x,y)\n",
    "show"
   ]
  },
  {
   "cell_type": "markdown",
   "metadata": {},
   "source": [
    "Con esta función y la ayuda de odeint integramos la ecuaión diferencial obteniendo la solución para una posición inicial de 1 en x cero en y y una velocidad inicial de o en x y 1 en y, por último graficamos."
   ]
  },
  {
   "cell_type": "code",
   "execution_count": 11,
   "metadata": {
    "collapsed": false,
    "nbpresent": {
     "id": "7f1c408e-da67-481e-85f2-dcd0fe45ed85"
    },
    "slideshow": {
     "slide_type": "subslide"
    }
   },
   "outputs": [
    {
     "data": {
      "text/plain": [
       "<function matplotlib.pyplot.show>"
      ]
     },
     "execution_count": 11,
     "metadata": {},
     "output_type": "execute_result"
    },
    {
     "data": {
      "image/png": "[encoded data removed]",
      "text/plain": [
       "<matplotlib.figure.Figure at 0x7f6487f3d250>"
      ]
     },
     "metadata": {},
     "output_type": "display_data"
    }
   ],
   "source": [
    "tiempo =linspace(0,2*pi)\n",
    "vx=0.5\n",
    "vy=sqrt(1-vx**2)\n",
    "sol = odeint (gravitacion,[1,0,vx,vy],tiempo)\n",
    "x,y =sol[:,0],sol[:,1]\n",
    "xlim(-1.5,1.5),ylim([-1.5,1.5])\n",
    "axes().set_aspect('equal')\n",
    "plot([0],[0],'o')\n",
    "plot(x,y,'o')\n",
    "show"
   ]
  },
  {
   "cell_type": "markdown",
   "metadata": {},
   "source": [
    "En el ejercicio anterior hemos encontrado la solución para una posición inicial de 1 en x y 0 en y pero en esta ocación hemos impuesto la condición de que la magnitud de la velocidad sea 1 y que la velocidad en x sea .5, hemos graficado obteniendo una elipse y el origen es uno de sus focos."
   ]
  },
  {
   "cell_type": "code",
   "execution_count": 12,
   "metadata": {
    "collapsed": false,
    "nbpresent": {
     "id": "d4c9696f-f1e6-4d6f-b98c-24806750cb45"
    },
    "slideshow": {
     "slide_type": "slide"
    }
   },
   "outputs": [
    {
     "data": {
      "text/plain": [
       "<function matplotlib.pyplot.show>"
      ]
     },
     "execution_count": 12,
     "metadata": {},
     "output_type": "execute_result"
    },
    {
     "data": {
      "image/png": "[encoded data removed]",
      "text/plain": [
       "<matplotlib.figure.Figure at 0x7f6487df7a90>"
      ]
     },
     "metadata": {},
     "output_type": "display_data"
    }
   ],
   "source": [
    "\n",
    "vx=0.5\n",
    "vy=sqrt(1-vx**2)\n",
    "sol = odeint (gravitacion,[1,0,vx,vy],tiempo)\n",
    "x,y =sol[:,0],sol[:,1]\n",
    "xlim(-1.5,1.5),ylim([-1.5,1.5])\n",
    "axes().set_aspect('equal')\n",
    "plot([0],[0],'o')\n",
    "plot(x,y,'o')\n",
    "show"
   ]
  },
  {
   "cell_type": "code",
   "execution_count": 13,
   "metadata": {
    "collapsed": false,
    "nbpresent": {
     "id": "e0504581-64b5-42bd-9ed0-fbc19547019d"
    },
    "slideshow": {
     "slide_type": "slide"
    }
   },
   "outputs": [
    {
     "data": {
      "text/plain": [
       "<function matplotlib.pyplot.show>"
      ]
     },
     "execution_count": 13,
     "metadata": {},
     "output_type": "execute_result"
    },
    {
     "data": {
      "image/png": "[encoded data removed]",
      "text/plain": [
       "<matplotlib.figure.Figure at 0x7f6487d9b550>"
      ]
     },
     "metadata": {},
     "output_type": "display_data"
    }
   ],
   "source": [
    "tiempo =linspace(0,2*pi,500)\n",
    "for num_trayectorias in range(10):\n",
    "    vx = rand()\n",
    "    vy= sqrt(1-vx**2)\n",
    "    sol =odeint(gravitacion,[1,0,vx,vy],tiempo)\n",
    "    x,y =sol[:,0],sol[:,1]\n",
    "    plot(x,y)\n",
    "    xlim([-1.5,1.5]),ylim([-1.5,1.5],axes().set_aspect('equal'))\n",
    "    plot([0],[0],'o')\n",
    "show"
   ]
  },
  {
   "cell_type": "markdown",
   "metadata": {},
   "source": [
    "En este ejercicio hemos graficado difernetes graficas todas con la característica de que la magnitud de la velocidad inicial es igual a 1 empiezan en x igual a 1 y y igual a cero y su velocidad en x es aleatoria."
   ]
  },
  {
   "cell_type": "code",
   "execution_count": 14,
   "metadata": {
    "collapsed": false,
    "nbpresent": {
     "id": "f32ad2f9-4289-451b-b805-23b39d138a4b"
    },
    "slideshow": {
     "slide_type": "subslide"
    }
   },
   "outputs": [
    {
     "data": {
      "text/plain": [
       "<function matplotlib.pyplot.show>"
      ]
     },
     "execution_count": 14,
     "metadata": {},
     "output_type": "execute_result"
    },
    {
     "data": {
      "image/png": "[encoded data removed]",
      "text/plain": [
       "<matplotlib.figure.Figure at 0x7f6487c4be50>"
      ]
     },
     "metadata": {},
     "output_type": "display_data"
    }
   ],
   "source": [
    "tiempo =linspace(0,2*pi,100)\n",
    "vx=0.5\n",
    "vy=sqrt(1-vx**2)\n",
    "sol = odeint (gravitacion,[1,0,vx,vy],tiempo)\n",
    "vx,vy =sol[:,2],sol[:,3]\n",
    "xlim(-2,2),ylim([-2,2])\n",
    "axes().set_aspect('equal')\n",
    "plot([0],[0],'o')\n",
    "plot(vx,vy,'o')\n",
    "show"
   ]
  },
  {
   "cell_type": "code",
   "execution_count": 38,
   "metadata": {
    "collapsed": false,
    "nbpresent": {
     "id": "f3541e90-bf17-4a24-8a2b-dc83491e8b32"
    },
    "slideshow": {
     "slide_type": "slide"
    }
   },
   "outputs": [
    {
     "data": {
      "text/plain": [
       "<function matplotlib.pyplot.show>"
      ]
     },
     "execution_count": 38,
     "metadata": {},
     "output_type": "execute_result"
    },
    {
     "data": {
      "image/png": "[encoded data removed]",
      "text/plain": [
       "<matplotlib.figure.Figure at 0x7f7e44701310>"
      ]
     },
     "metadata": {},
     "output_type": "display_data"
    }
   ],
   "source": [
    "tiempo =linspace(0,2*pi,500)\n",
    "for num_trayectorias in range(10):\n",
    "    vx = rand()\n",
    "    vy= sqrt(1-vx**2)\n",
    "    sol =odeint(gravitacion,[1,0,vx,vy],tiempo)\n",
    "    vx,vy =sol[:,2],sol[:,3]\n",
    "    plot(vx,vy)\n",
    "    xlim([-5,5]),ylim([-5,5],axes().set_aspect('equal'))\n",
    "    plot([0],[0],'o')\n",
    "show"
   ]
  },
  {
   "cell_type": "markdown",
   "metadata": {},
   "source": [
    "Por último hemos impuesto de nuevo la condición de que la velocidad inicial tiene magnitud 1 y que inicia en cero, uno pero en esta ocación graficamos las velocidades en x y y observando que se forman circulos"
   ]
  }
 ],
 "metadata": {
  "celltoolbar": "Slideshow",
  "kernelspec": {
   "display_name": "Python 2",
   "language": "python",
   "name": "python2"
  },
  "language_info": {
   "codemirror_mode": {
    "name": "ipython",
    "version": 2
   },
   "file_extension": ".py",
   "mimetype": "text/x-python",
   "name": "python",
   "nbconvert_exporter": "python",
   "pygments_lexer": "ipython2",
   "version": "2.7.11"
  },
  "nbpresent": {
   "slides": {
    "1ab23868-fd8f-44e2-b654-7a537ae92114": {
     "id": "1ab23868-fd8f-44e2-b654-7a537ae92114",
     "prev": "34ed4983-b5ab-4a77-aa78-623ae53b44ff",
     "regions": {
      "2809ec17-e37b-41a0-afcd-5305753fc369": {
       "attrs": {
        "height": 0.8,
        "width": 0.8,
        "x": 0.1,
        "y": 0.1
       },
       "content": {
        "cell": "f5409747-2cc4-4d1f-88ac-c5e52fdaf892",
        "part": "whole"
       },
       "id": "2809ec17-e37b-41a0-afcd-5305753fc369"
      }
     }
    },
    "2d5893f4-542d-45af-8eb7-77b2d4e27204": {
     "id": "2d5893f4-542d-45af-8eb7-77b2d4e27204",
     "prev": "77cc352d-fb4d-48b6-b6ee-a8ad535428df",
     "regions": {
      "8e4cf409-ab53-4260-83e3-a66366b06b5d": {
       "attrs": {
        "height": 0.8,
        "width": 0.8,
        "x": 0.1,
        "y": 0.1
       },
       "content": {
        "cell": "f3541e90-bf17-4a24-8a2b-dc83491e8b32",
        "part": "whole"
       },
       "id": "8e4cf409-ab53-4260-83e3-a66366b06b5d"
      }
     }
    },
    "34ed4983-b5ab-4a77-aa78-623ae53b44ff": {
     "id": "34ed4983-b5ab-4a77-aa78-623ae53b44ff",
     "prev": "c81977e8-0005-46cf-8944-6f5ec28a1b2f",
     "regions": {
      "33e9a8ef-b7eb-4552-b0a8-bc11e9e592d7": {
       "attrs": {
        "height": 0.8,
        "width": 0.8,
        "x": 0.1,
        "y": 0.1
       },
       "content": {
        "cell": "9e172fcc-f107-40b8-833c-21806e3f1437",
        "part": "whole"
       },
       "id": "33e9a8ef-b7eb-4552-b0a8-bc11e9e592d7"
      }
     }
    },
    "42badf0c-466a-4c40-bb74-be4333009ed0": {
     "id": "42badf0c-466a-4c40-bb74-be4333009ed0",
     "prev": null,
     "regions": {
      "753745df-bede-4fa2-9461-a8c392d62d09": {
       "attrs": {
        "height": 0.8,
        "width": 0.8,
        "x": 0.1,
        "y": 0.1
       },
       "content": {
        "cell": "4310c5d3-077c-47e6-8451-cb329516687a",
        "part": "whole"
       },
       "id": "753745df-bede-4fa2-9461-a8c392d62d09"
      }
     }
    },
    "4976e033-935d-4f0f-84c8-7cb2913b0cb9": {
     "id": "4976e033-935d-4f0f-84c8-7cb2913b0cb9",
     "prev": "1ab23868-fd8f-44e2-b654-7a537ae92114",
     "regions": {
      "354a492e-6226-450e-a20b-7c0bad398f4a": {
       "attrs": {
        "height": 0.8,
        "width": 0.8,
        "x": 0.1,
        "y": 0.1
       },
       "content": {
        "cell": "7f1c408e-da67-481e-85f2-dcd0fe45ed85",
        "part": "whole"
       },
       "id": "354a492e-6226-450e-a20b-7c0bad398f4a"
      }
     }
    },
    "77cc352d-fb4d-48b6-b6ee-a8ad535428df": {
     "id": "77cc352d-fb4d-48b6-b6ee-a8ad535428df",
     "prev": "78b18074-46cb-4ce2-8d7f-89d404d10db3",
     "regions": {
      "5dc757e0-b38c-473e-a5c3-3aa45fe64439": {
       "attrs": {
        "height": 0.8,
        "width": 0.8,
        "x": 0.1,
        "y": 0.1
       },
       "content": {
        "cell": "f32ad2f9-4289-451b-b805-23b39d138a4b",
        "part": "whole"
       },
       "id": "5dc757e0-b38c-473e-a5c3-3aa45fe64439"
      }
     }
    },
    "784a6123-4f83-4cf7-8ec0-23034893b2af": {
     "id": "784a6123-4f83-4cf7-8ec0-23034893b2af",
     "prev": "4976e033-935d-4f0f-84c8-7cb2913b0cb9",
     "regions": {
      "868406d8-2e80-439a-8ace-7f1a35956781": {
       "attrs": {
        "height": 0.8,
        "width": 0.8,
        "x": 0.1,
        "y": 0.1
       },
       "content": {
        "cell": "d4c9696f-f1e6-4d6f-b98c-24806750cb45",
        "part": "whole"
       },
       "id": "868406d8-2e80-439a-8ace-7f1a35956781"
      }
     }
    },
    "78b18074-46cb-4ce2-8d7f-89d404d10db3": {
     "id": "78b18074-46cb-4ce2-8d7f-89d404d10db3",
     "prev": "784a6123-4f83-4cf7-8ec0-23034893b2af",
     "regions": {
      "5ea0a031-b4dc-48bb-88d4-9061f0808da7": {
       "attrs": {
        "height": 0.8,
        "width": 0.8,
        "x": 0.1,
        "y": 0.1
       },
       "content": {
        "cell": "e0504581-64b5-42bd-9ed0-fbc19547019d",
        "part": "whole"
       },
       "id": "5ea0a031-b4dc-48bb-88d4-9061f0808da7"
      }
     }
    },
    "7ebc550d-5d9f-45e6-a125-1dbbdbe5b3f4": {
     "id": "7ebc550d-5d9f-45e6-a125-1dbbdbe5b3f4",
     "prev": "42badf0c-466a-4c40-bb74-be4333009ed0",
     "regions": {
      "ff77800f-063c-4227-8736-1ea7dee4f396": {
       "attrs": {
        "height": 0.8,
        "width": 0.8,
        "x": 0.1,
        "y": 0.1
       },
       "content": {
        "cell": "54946670-9949-4ce3-9860-37a70c26ffbf",
        "part": "whole"
       },
       "id": "ff77800f-063c-4227-8736-1ea7dee4f396"
      }
     }
    },
    "c81977e8-0005-46cf-8944-6f5ec28a1b2f": {
     "id": "c81977e8-0005-46cf-8944-6f5ec28a1b2f",
     "prev": "7ebc550d-5d9f-45e6-a125-1dbbdbe5b3f4",
     "regions": {
      "0379c27e-fe86-4cef-9eb4-19ed3bf62bf2": {
       "attrs": {
        "height": 0.8,
        "width": 0.8,
        "x": 0.1,
        "y": 0.1
       },
       "id": "0379c27e-fe86-4cef-9eb4-19ed3bf62bf2"
      }
     }
    }
   },
   "themes": {}
  },
  "widgets": {
   "state": {},
   "version": "1.1.2"
  }
 },
 "nbformat": 4,
 "nbformat_minor": 0
}
